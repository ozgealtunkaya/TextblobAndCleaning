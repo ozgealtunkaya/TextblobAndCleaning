{
 "cells": [
  {
   "cell_type": "code",
   "execution_count": 1,
   "metadata": {},
   "outputs": [
    {
     "data": {
      "text/html": [
       "<div>\n",
       "<style scoped>\n",
       "    .dataframe tbody tr th:only-of-type {\n",
       "        vertical-align: middle;\n",
       "    }\n",
       "\n",
       "    .dataframe tbody tr th {\n",
       "        vertical-align: top;\n",
       "    }\n",
       "\n",
       "    .dataframe thead th {\n",
       "        text-align: right;\n",
       "    }\n",
       "</style>\n",
       "<table border=\"1\" class=\"dataframe\">\n",
       "  <thead>\n",
       "    <tr style=\"text-align: right;\">\n",
       "      <th></th>\n",
       "      <th>kategori</th>\n",
       "      <th>temiz_haber</th>\n",
       "    </tr>\n",
       "  </thead>\n",
       "  <tbody>\n",
       "    <tr>\n",
       "      <th>0</th>\n",
       "      <td>arts  life</td>\n",
       "      <td>even death artist even death artist from paris...</td>\n",
       "    </tr>\n",
       "    <tr>\n",
       "      <th>1</th>\n",
       "      <td>world</td>\n",
       "      <td>reopens travellers reopens travellers gondolas...</td>\n",
       "    </tr>\n",
       "    <tr>\n",
       "      <th>2</th>\n",
       "      <td>arts  life</td>\n",
       "      <td>alamy photoalamy photorestoration works ongoin...</td>\n",
       "    </tr>\n",
       "    <tr>\n",
       "      <th>3</th>\n",
       "      <td>economy</td>\n",
       "      <td>consumer prices consumer prices mays annual a ...</td>\n",
       "    </tr>\n",
       "    <tr>\n",
       "      <th>4</th>\n",
       "      <td>economy</td>\n",
       "      <td>btc oil btc oil the oil delivered  kilometerlo...</td>\n",
       "    </tr>\n",
       "  </tbody>\n",
       "</table>\n",
       "</div>"
      ],
      "text/plain": [
       "     kategori                                        temiz_haber\n",
       "0  arts  life  even death artist even death artist from paris...\n",
       "1       world  reopens travellers reopens travellers gondolas...\n",
       "2  arts  life  alamy photoalamy photorestoration works ongoin...\n",
       "3     economy  consumer prices consumer prices mays annual a ...\n",
       "4     economy  btc oil btc oil the oil delivered  kilometerlo..."
      ]
     },
     "execution_count": 1,
     "metadata": {},
     "output_type": "execute_result"
    }
   ],
   "source": [
    "import pandas as pd\n",
    "import numpy as np\n",
    "df = pd.read_csv('simdi.csv')\n",
    "df.head(5)"
   ]
  },
  {
   "cell_type": "code",
   "execution_count": 2,
   "metadata": {
    "scrolled": true
   },
   "outputs": [
    {
     "name": "stdout",
     "output_type": "stream",
     "text": [
      "<class 'pandas.core.frame.DataFrame'>\n",
      "RangeIndex: 40126 entries, 0 to 40125\n",
      "Data columns (total 2 columns):\n",
      " #   Column       Non-Null Count  Dtype \n",
      "---  ------       --------------  ----- \n",
      " 0   kategori     40126 non-null  object\n",
      " 1   temiz_haber  40126 non-null  object\n",
      "dtypes: object(2)\n",
      "memory usage: 627.1+ KB\n"
     ]
    }
   ],
   "source": [
    "df.info()"
   ]
  },
  {
   "cell_type": "code",
   "execution_count": 3,
   "metadata": {},
   "outputs": [
    {
     "data": {
      "text/html": [
       "<div>\n",
       "<style scoped>\n",
       "    .dataframe tbody tr th:only-of-type {\n",
       "        vertical-align: middle;\n",
       "    }\n",
       "\n",
       "    .dataframe tbody tr th {\n",
       "        vertical-align: top;\n",
       "    }\n",
       "\n",
       "    .dataframe thead th {\n",
       "        text-align: right;\n",
       "    }\n",
       "</style>\n",
       "<table border=\"1\" class=\"dataframe\">\n",
       "  <thead>\n",
       "    <tr style=\"text-align: right;\">\n",
       "      <th></th>\n",
       "      <th>kategori</th>\n",
       "      <th>temiz_haber</th>\n",
       "    </tr>\n",
       "  </thead>\n",
       "  <tbody>\n",
       "    <tr>\n",
       "      <th>count</th>\n",
       "      <td>40126</td>\n",
       "      <td>40126</td>\n",
       "    </tr>\n",
       "    <tr>\n",
       "      <th>unique</th>\n",
       "      <td>10</td>\n",
       "      <td>27220</td>\n",
       "    </tr>\n",
       "    <tr>\n",
       "      <th>top</th>\n",
       "      <td>turkey</td>\n",
       "      <td>aa photoaa photo</td>\n",
       "    </tr>\n",
       "    <tr>\n",
       "      <th>freq</th>\n",
       "      <td>12751</td>\n",
       "      <td>2269</td>\n",
       "    </tr>\n",
       "  </tbody>\n",
       "</table>\n",
       "</div>"
      ],
      "text/plain": [
       "       kategori       temiz_haber\n",
       "count     40126             40126\n",
       "unique       10             27220\n",
       "top      turkey  aa photoaa photo\n",
       "freq      12751              2269"
      ]
     },
     "execution_count": 3,
     "metadata": {},
     "output_type": "execute_result"
    }
   ],
   "source": [
    "df.describe().round(1)"
   ]
  },
  {
   "cell_type": "code",
   "execution_count": 4,
   "metadata": {},
   "outputs": [
    {
     "data": {
      "text/html": [
       "<div>\n",
       "<style scoped>\n",
       "    .dataframe tbody tr th:only-of-type {\n",
       "        vertical-align: middle;\n",
       "    }\n",
       "\n",
       "    .dataframe tbody tr th {\n",
       "        vertical-align: top;\n",
       "    }\n",
       "\n",
       "    .dataframe thead th {\n",
       "        text-align: right;\n",
       "    }\n",
       "</style>\n",
       "<table border=\"1\" class=\"dataframe\">\n",
       "  <thead>\n",
       "    <tr style=\"text-align: right;\">\n",
       "      <th></th>\n",
       "      <th>null</th>\n",
       "      <th>percent</th>\n",
       "    </tr>\n",
       "  </thead>\n",
       "  <tbody>\n",
       "    <tr>\n",
       "      <th>kategori</th>\n",
       "      <td>0</td>\n",
       "      <td>0.0</td>\n",
       "    </tr>\n",
       "    <tr>\n",
       "      <th>temiz_haber</th>\n",
       "      <td>0</td>\n",
       "      <td>0.0</td>\n",
       "    </tr>\n",
       "  </tbody>\n",
       "</table>\n",
       "</div>"
      ],
      "text/plain": [
       "             null  percent\n",
       "kategori        0      0.0\n",
       "temiz_haber     0      0.0"
      ]
     },
     "execution_count": 4,
     "metadata": {},
     "output_type": "execute_result"
    }
   ],
   "source": [
    "null_values=df.isna().sum()\n",
    "null_values=pd.DataFrame(null_values,columns=['null'])\n",
    "sum_tot=len(df)\n",
    "null_values['percent']=null_values['null']/sum_tot*100\n",
    "round(null_values,3).sort_values('percent',ascending=False)"
   ]
  },
  {
   "cell_type": "code",
   "execution_count": 5,
   "metadata": {},
   "outputs": [
    {
     "data": {
      "text/plain": [
       "(40126, 2)"
      ]
     },
     "execution_count": 5,
     "metadata": {},
     "output_type": "execute_result"
    }
   ],
   "source": [
    "df= df.dropna()\n",
    "df.shape"
   ]
  },
  {
   "cell_type": "code",
   "execution_count": 6,
   "metadata": {},
   "outputs": [
    {
     "name": "stderr",
     "output_type": "stream",
     "text": [
      "[nltk_data] Downloading package stopwords to\n",
      "[nltk_data]     C:\\Users\\ozge.altunkaya\\AppData\\Roaming\\nltk_data...\n",
      "[nltk_data]   Package stopwords is already up-to-date!\n",
      "[nltk_data] Downloading package wordnet to\n",
      "[nltk_data]     C:\\Users\\ozge.altunkaya\\AppData\\Roaming\\nltk_data...\n",
      "[nltk_data]   Package wordnet is already up-to-date!\n",
      "[nltk_data] Downloading package punkt to\n",
      "[nltk_data]     C:\\Users\\ozge.altunkaya\\AppData\\Roaming\\nltk_data...\n",
      "[nltk_data]   Package punkt is already up-to-date!\n",
      "[nltk_data] Downloading package averaged_perceptron_tagger to\n",
      "[nltk_data]     C:\\Users\\ozge.altunkaya\\AppData\\Roaming\\nltk_data...\n",
      "[nltk_data]   Package averaged_perceptron_tagger is already up-to-\n",
      "[nltk_data]       date!\n"
     ]
    }
   ],
   "source": [
    "import wordcloud\n",
    "from nltk.corpus import stopwords\n",
    "import nltk\n",
    "import string\n",
    "nltk.download('stopwords')\n",
    "nltk.download('wordnet')\n",
    "nltk.download('punkt')\n",
    "nltk.download('averaged_perceptron_tagger')\n",
    "stop = stopwords.words('english')"
   ]
  },
  {
   "cell_type": "code",
   "execution_count": 8,
   "metadata": {},
   "outputs": [
    {
     "data": {
      "text/html": [
       "<div>\n",
       "<style scoped>\n",
       "    .dataframe tbody tr th:only-of-type {\n",
       "        vertical-align: middle;\n",
       "    }\n",
       "\n",
       "    .dataframe tbody tr th {\n",
       "        vertical-align: top;\n",
       "    }\n",
       "\n",
       "    .dataframe thead th {\n",
       "        text-align: right;\n",
       "    }\n",
       "</style>\n",
       "<table border=\"1\" class=\"dataframe\">\n",
       "  <thead>\n",
       "    <tr style=\"text-align: right;\">\n",
       "      <th></th>\n",
       "      <th>temiz_haber</th>\n",
       "      <th>stopwords</th>\n",
       "    </tr>\n",
       "  </thead>\n",
       "  <tbody>\n",
       "    <tr>\n",
       "      <th>0</th>\n",
       "      <td>even death artist even death artist from paris...</td>\n",
       "      <td>7</td>\n",
       "    </tr>\n",
       "    <tr>\n",
       "      <th>1</th>\n",
       "      <td>reopens travellers reopens travellers gondolas...</td>\n",
       "      <td>13</td>\n",
       "    </tr>\n",
       "    <tr>\n",
       "      <th>2</th>\n",
       "      <td>alamy photoalamy photorestoration works ongoin...</td>\n",
       "      <td>24</td>\n",
       "    </tr>\n",
       "    <tr>\n",
       "      <th>3</th>\n",
       "      <td>consumer prices consumer prices mays annual a ...</td>\n",
       "      <td>2</td>\n",
       "    </tr>\n",
       "    <tr>\n",
       "      <th>4</th>\n",
       "      <td>btc oil btc oil the oil delivered  kilometerlo...</td>\n",
       "      <td>2</td>\n",
       "    </tr>\n",
       "  </tbody>\n",
       "</table>\n",
       "</div>"
      ],
      "text/plain": [
       "                                         temiz_haber  stopwords\n",
       "0  even death artist even death artist from paris...          7\n",
       "1  reopens travellers reopens travellers gondolas...         13\n",
       "2  alamy photoalamy photorestoration works ongoin...         24\n",
       "3  consumer prices consumer prices mays annual a ...          2\n",
       "4  btc oil btc oil the oil delivered  kilometerlo...          2"
      ]
     },
     "execution_count": 8,
     "metadata": {},
     "output_type": "execute_result"
    }
   ],
   "source": [
    "df['stopwords'] = df['temiz_haber'].apply(lambda x: len([x for x in x.split() if x in stop]))\n",
    "df[['temiz_haber','stopwords']].head()\n"
   ]
  },
  {
   "cell_type": "code",
   "execution_count": 9,
   "metadata": {},
   "outputs": [],
   "source": [
    "def count_punct(text):\n",
    "    count = sum([1 for char in text if char in string.punctuation])\n",
    "    return count\n",
    "\n",
    "df['punctuation'] = df['temiz_haber'].apply(lambda x: count_punct(x))"
   ]
  },
  {
   "cell_type": "code",
   "execution_count": 10,
   "metadata": {},
   "outputs": [
    {
     "data": {
      "text/html": [
       "<div>\n",
       "<style scoped>\n",
       "    .dataframe tbody tr th:only-of-type {\n",
       "        vertical-align: middle;\n",
       "    }\n",
       "\n",
       "    .dataframe tbody tr th {\n",
       "        vertical-align: top;\n",
       "    }\n",
       "\n",
       "    .dataframe thead th {\n",
       "        text-align: right;\n",
       "    }\n",
       "</style>\n",
       "<table border=\"1\" class=\"dataframe\">\n",
       "  <thead>\n",
       "    <tr style=\"text-align: right;\">\n",
       "      <th></th>\n",
       "      <th>temiz_haber</th>\n",
       "      <th>punctuation</th>\n",
       "    </tr>\n",
       "  </thead>\n",
       "  <tbody>\n",
       "    <tr>\n",
       "      <th>0</th>\n",
       "      <td>even death artist even death artist from paris...</td>\n",
       "      <td>0</td>\n",
       "    </tr>\n",
       "    <tr>\n",
       "      <th>1</th>\n",
       "      <td>reopens travellers reopens travellers gondolas...</td>\n",
       "      <td>0</td>\n",
       "    </tr>\n",
       "    <tr>\n",
       "      <th>2</th>\n",
       "      <td>alamy photoalamy photorestoration works ongoin...</td>\n",
       "      <td>0</td>\n",
       "    </tr>\n",
       "    <tr>\n",
       "      <th>3</th>\n",
       "      <td>consumer prices consumer prices mays annual a ...</td>\n",
       "      <td>0</td>\n",
       "    </tr>\n",
       "    <tr>\n",
       "      <th>4</th>\n",
       "      <td>btc oil btc oil the oil delivered  kilometerlo...</td>\n",
       "      <td>0</td>\n",
       "    </tr>\n",
       "  </tbody>\n",
       "</table>\n",
       "</div>"
      ],
      "text/plain": [
       "                                         temiz_haber  punctuation\n",
       "0  even death artist even death artist from paris...            0\n",
       "1  reopens travellers reopens travellers gondolas...            0\n",
       "2  alamy photoalamy photorestoration works ongoin...            0\n",
       "3  consumer prices consumer prices mays annual a ...            0\n",
       "4  btc oil btc oil the oil delivered  kilometerlo...            0"
      ]
     },
     "execution_count": 10,
     "metadata": {},
     "output_type": "execute_result"
    }
   ],
   "source": [
    "df[['temiz_haber','punctuation']].head()"
   ]
  },
  {
   "cell_type": "code",
   "execution_count": 11,
   "metadata": {},
   "outputs": [
    {
     "data": {
      "text/html": [
       "<div>\n",
       "<style scoped>\n",
       "    .dataframe tbody tr th:only-of-type {\n",
       "        vertical-align: middle;\n",
       "    }\n",
       "\n",
       "    .dataframe tbody tr th {\n",
       "        vertical-align: top;\n",
       "    }\n",
       "\n",
       "    .dataframe thead th {\n",
       "        text-align: right;\n",
       "    }\n",
       "</style>\n",
       "<table border=\"1\" class=\"dataframe\">\n",
       "  <thead>\n",
       "    <tr style=\"text-align: right;\">\n",
       "      <th></th>\n",
       "      <th>temiz_haber</th>\n",
       "      <th>hastags</th>\n",
       "    </tr>\n",
       "  </thead>\n",
       "  <tbody>\n",
       "    <tr>\n",
       "      <th>0</th>\n",
       "      <td>even death artist even death artist from paris...</td>\n",
       "      <td>0</td>\n",
       "    </tr>\n",
       "    <tr>\n",
       "      <th>1</th>\n",
       "      <td>reopens travellers reopens travellers gondolas...</td>\n",
       "      <td>0</td>\n",
       "    </tr>\n",
       "    <tr>\n",
       "      <th>2</th>\n",
       "      <td>alamy photoalamy photorestoration works ongoin...</td>\n",
       "      <td>0</td>\n",
       "    </tr>\n",
       "    <tr>\n",
       "      <th>3</th>\n",
       "      <td>consumer prices consumer prices mays annual a ...</td>\n",
       "      <td>0</td>\n",
       "    </tr>\n",
       "    <tr>\n",
       "      <th>4</th>\n",
       "      <td>btc oil btc oil the oil delivered  kilometerlo...</td>\n",
       "      <td>0</td>\n",
       "    </tr>\n",
       "  </tbody>\n",
       "</table>\n",
       "</div>"
      ],
      "text/plain": [
       "                                         temiz_haber  hastags\n",
       "0  even death artist even death artist from paris...        0\n",
       "1  reopens travellers reopens travellers gondolas...        0\n",
       "2  alamy photoalamy photorestoration works ongoin...        0\n",
       "3  consumer prices consumer prices mays annual a ...        0\n",
       "4  btc oil btc oil the oil delivered  kilometerlo...        0"
      ]
     },
     "execution_count": 11,
     "metadata": {},
     "output_type": "execute_result"
    }
   ],
   "source": [
    "df['hastags'] = df['temiz_haber'].apply(lambda x: len([x for x in x.split() if x.startswith('#')]))\n",
    "df[['temiz_haber','hastags']].head()"
   ]
  },
  {
   "cell_type": "code",
   "execution_count": 12,
   "metadata": {},
   "outputs": [
    {
     "data": {
      "text/plain": [
       "0"
      ]
     },
     "execution_count": 12,
     "metadata": {},
     "output_type": "execute_result"
    }
   ],
   "source": [
    "df.hastags.loc[df.hastags != 0].count()"
   ]
  },
  {
   "cell_type": "code",
   "execution_count": 13,
   "metadata": {},
   "outputs": [
    {
     "data": {
      "text/html": [
       "<div>\n",
       "<style scoped>\n",
       "    .dataframe tbody tr th:only-of-type {\n",
       "        vertical-align: middle;\n",
       "    }\n",
       "\n",
       "    .dataframe tbody tr th {\n",
       "        vertical-align: top;\n",
       "    }\n",
       "\n",
       "    .dataframe thead th {\n",
       "        text-align: right;\n",
       "    }\n",
       "</style>\n",
       "<table border=\"1\" class=\"dataframe\">\n",
       "  <thead>\n",
       "    <tr style=\"text-align: right;\">\n",
       "      <th></th>\n",
       "      <th>temiz_haber</th>\n",
       "      <th>numerics</th>\n",
       "    </tr>\n",
       "  </thead>\n",
       "  <tbody>\n",
       "    <tr>\n",
       "      <th>0</th>\n",
       "      <td>even death artist even death artist from paris...</td>\n",
       "      <td>0</td>\n",
       "    </tr>\n",
       "    <tr>\n",
       "      <th>1</th>\n",
       "      <td>reopens travellers reopens travellers gondolas...</td>\n",
       "      <td>0</td>\n",
       "    </tr>\n",
       "    <tr>\n",
       "      <th>2</th>\n",
       "      <td>alamy photoalamy photorestoration works ongoin...</td>\n",
       "      <td>0</td>\n",
       "    </tr>\n",
       "    <tr>\n",
       "      <th>3</th>\n",
       "      <td>consumer prices consumer prices mays annual a ...</td>\n",
       "      <td>0</td>\n",
       "    </tr>\n",
       "    <tr>\n",
       "      <th>4</th>\n",
       "      <td>btc oil btc oil the oil delivered  kilometerlo...</td>\n",
       "      <td>0</td>\n",
       "    </tr>\n",
       "  </tbody>\n",
       "</table>\n",
       "</div>"
      ],
      "text/plain": [
       "                                         temiz_haber  numerics\n",
       "0  even death artist even death artist from paris...         0\n",
       "1  reopens travellers reopens travellers gondolas...         0\n",
       "2  alamy photoalamy photorestoration works ongoin...         0\n",
       "3  consumer prices consumer prices mays annual a ...         0\n",
       "4  btc oil btc oil the oil delivered  kilometerlo...         0"
      ]
     },
     "execution_count": 13,
     "metadata": {},
     "output_type": "execute_result"
    }
   ],
   "source": [
    "df['numerics'] = df['temiz_haber'].apply(lambda x: len([x for x in x.split() if x.isdigit()]))\n",
    "df[['temiz_haber','numerics']].head()"
   ]
  },
  {
   "cell_type": "code",
   "execution_count": 14,
   "metadata": {},
   "outputs": [
    {
     "data": {
      "text/html": [
       "<div>\n",
       "<style scoped>\n",
       "    .dataframe tbody tr th:only-of-type {\n",
       "        vertical-align: middle;\n",
       "    }\n",
       "\n",
       "    .dataframe tbody tr th {\n",
       "        vertical-align: top;\n",
       "    }\n",
       "\n",
       "    .dataframe thead th {\n",
       "        text-align: right;\n",
       "    }\n",
       "</style>\n",
       "<table border=\"1\" class=\"dataframe\">\n",
       "  <thead>\n",
       "    <tr style=\"text-align: right;\">\n",
       "      <th></th>\n",
       "      <th>temiz_haber</th>\n",
       "      <th>upper</th>\n",
       "    </tr>\n",
       "  </thead>\n",
       "  <tbody>\n",
       "    <tr>\n",
       "      <th>0</th>\n",
       "      <td>even death artist even death artist from paris...</td>\n",
       "      <td>0</td>\n",
       "    </tr>\n",
       "    <tr>\n",
       "      <th>1</th>\n",
       "      <td>reopens travellers reopens travellers gondolas...</td>\n",
       "      <td>0</td>\n",
       "    </tr>\n",
       "    <tr>\n",
       "      <th>2</th>\n",
       "      <td>alamy photoalamy photorestoration works ongoin...</td>\n",
       "      <td>0</td>\n",
       "    </tr>\n",
       "    <tr>\n",
       "      <th>3</th>\n",
       "      <td>consumer prices consumer prices mays annual a ...</td>\n",
       "      <td>0</td>\n",
       "    </tr>\n",
       "    <tr>\n",
       "      <th>4</th>\n",
       "      <td>btc oil btc oil the oil delivered  kilometerlo...</td>\n",
       "      <td>0</td>\n",
       "    </tr>\n",
       "  </tbody>\n",
       "</table>\n",
       "</div>"
      ],
      "text/plain": [
       "                                         temiz_haber  upper\n",
       "0  even death artist even death artist from paris...      0\n",
       "1  reopens travellers reopens travellers gondolas...      0\n",
       "2  alamy photoalamy photorestoration works ongoin...      0\n",
       "3  consumer prices consumer prices mays annual a ...      0\n",
       "4  btc oil btc oil the oil delivered  kilometerlo...      0"
      ]
     },
     "execution_count": 14,
     "metadata": {},
     "output_type": "execute_result"
    }
   ],
   "source": [
    "df['upper'] = df['temiz_haber'].apply(lambda x: len([x for x in x.split() if x.isupper()]))\n",
    "df[['temiz_haber','upper']].head()"
   ]
  },
  {
   "cell_type": "code",
   "execution_count": 15,
   "metadata": {},
   "outputs": [
    {
     "data": {
      "text/plain": [
       "0    even death artist even death artist from paris...\n",
       "1    reopens travellers reopens travellers gondolas...\n",
       "2    alamy photoalamy photorestoration works ongoin...\n",
       "3    consumer prices consumer prices mays annual a ...\n",
       "4    btc oil btc oil the oil delivered kilometerlon...\n",
       "Name: baslik, dtype: object"
      ]
     },
     "execution_count": 15,
     "metadata": {},
     "output_type": "execute_result"
    }
   ],
   "source": [
    "df['baslik'] = df['temiz_haber'].apply(lambda x: \" \".join(x.lower() for x in x.split()))\n",
    "df['baslik'].head()"
   ]
  },
  {
   "cell_type": "code",
   "execution_count": 16,
   "metadata": {},
   "outputs": [
    {
     "data": {
      "text/plain": [
       "0    even death artist even death artist from paris...\n",
       "1    reopens travellers reopens travellers gondolas...\n",
       "2    alamy photoalamy photorestoration works ongoin...\n",
       "3    consumer prices consumer prices mays annual a ...\n",
       "4    btc oil btc oil the oil delivered kilometerlon...\n",
       "Name: baslik, dtype: object"
      ]
     },
     "execution_count": 16,
     "metadata": {},
     "output_type": "execute_result"
    }
   ],
   "source": [
    "df['baslik'] = df['baslik'].str.replace('[^\\w\\s]','')\n",
    "df['baslik'].head()"
   ]
  },
  {
   "cell_type": "code",
   "execution_count": 17,
   "metadata": {},
   "outputs": [
    {
     "data": {
      "text/plain": [
       "741      senior delegation ankara soon travel moscow su...\n",
       "28214    four people suspected attacking four people su...\n",
       "15513                           reuters photoreuters photo\n",
       "19771    employees transport tyres factory zhejiang pro...\n",
       "8677     greek authorities released custody april one e...\n",
       "37335    guns n roses singer axl rose left watches acdc...\n",
       "7343     environment urbanization minister sept said tu...\n",
       "8361     turkish airlines would purchasing half polant ...\n",
       "32867    hundreds scavengers make living collecting gar...\n",
       "14505    istanbul seriously affected says citys mayor t...\n",
       "Name: baslik, dtype: object"
      ]
     },
     "execution_count": 17,
     "metadata": {},
     "output_type": "execute_result"
    }
   ],
   "source": [
    "from nltk.corpus import stopwords\n",
    "stop = stopwords.words('english')\n",
    "df['baslik'] = df['baslik'].apply(lambda x: \" \".join(x for x in x.split() if x not in stop))\n",
    "df['baslik'].sample(10)"
   ]
  },
  {
   "cell_type": "code",
   "execution_count": 18,
   "metadata": {},
   "outputs": [
    {
     "data": {
      "text/plain": [
       "'sdasdasdasd http://t.co/7AzE4IoGMe Risk Assessmen '"
      ]
     },
     "execution_count": 18,
     "metadata": {},
     "output_type": "execute_result"
    }
   ],
   "source": [
    "from bs4 import BeautifulSoup\n",
    "\n",
    "def strip_html_tags(text):\n",
    "    soup = BeautifulSoup(text, \"html.parser\")\n",
    "    stripped_text = soup.get_text()\n",
    "    return stripped_text\n",
    "\n",
    "strip_html_tags('sdasdasdasd http://t.co/7AzE4IoGMe Risk Assessmen ')\n",
    "\n",
    "# I will come back to this later"
   ]
  },
  {
   "cell_type": "code",
   "execution_count": 19,
   "metadata": {},
   "outputs": [
    {
     "data": {
      "text/plain": [
       "0    even death artist even death artist paris olde...\n",
       "1    ropes travellers ropes travellers gondolas rea...\n",
       "2    alamo photoalamy photorestoration works going ...\n",
       "3    consumer prices consumer prices may annual gro...\n",
       "4    etc oil etc oil oil delivered kilometerlong et...\n",
       "Name: baslik, dtype: object"
      ]
     },
     "execution_count": 19,
     "metadata": {},
     "output_type": "execute_result"
    }
   ],
   "source": [
    "from textblob import TextBlob\n",
    "df['baslik'][:5].apply(lambda x: str(TextBlob(x).correct()))"
   ]
  },
  {
   "cell_type": "code",
   "execution_count": 20,
   "metadata": {},
   "outputs": [],
   "source": [
    "import re\n",
    "import string\n",
    "\n",
    "def clean_text_round1(text):\n",
    "    '''Make text lowercase, remove text in square brackets, remove punctuation and remove words containing numbers.'''\n",
    "    text = text.lower()\n",
    "    text = re.sub('\\[.*?\\]', '', text)\n",
    "    text = re.sub('[%s]' % re.escape(string.punctuation), '', text)\n",
    "    text = re.sub('\\w*\\d\\w*', '', text)\n",
    "    return text\n",
    "\n",
    "round1 = lambda x: clean_text_round1(x)"
   ]
  },
  {
   "cell_type": "code",
   "execution_count": 21,
   "metadata": {},
   "outputs": [
    {
     "data": {
      "text/plain": [
       "0        even death artist even death artist pariss old...\n",
       "1        reopens travellers reopens travellers gondolas...\n",
       "2        alamy photoalamy photorestoration works ongoin...\n",
       "3        consumer prices consumer prices mays annual gr...\n",
       "4        btc oil btc oil oil delivered kilometerlong bt...\n",
       "                               ...                        \n",
       "40121                                   dha photodha photo\n",
       "40122    burak yılmaz scored six goals champions league...\n",
       "40123                           reuters photoreuters photo\n",
       "40124    residents gather site truck bomb attack crowde...\n",
       "40125    handout picture taken july released nigerian a...\n",
       "Name: baslik, Length: 40126, dtype: object"
      ]
     },
     "execution_count": 21,
     "metadata": {},
     "output_type": "execute_result"
    }
   ],
   "source": [
    "df['baslik'] = df.baslik.apply(round1)\n",
    "df.baslik"
   ]
  },
  {
   "cell_type": "code",
   "execution_count": 22,
   "metadata": {},
   "outputs": [],
   "source": [
    "def clean_text_round2(text):\n",
    "    '''Get rid of some additional punctuation and non-sensical text that was missed the first time around.'''\n",
    "    text = re.sub('[‘’“”…]', '', text)\n",
    "    text = re.sub('\\n', '', text)\n",
    "    return text\n",
    "\n",
    "round2 = lambda x: clean_text_round2(x)"
   ]
  },
  {
   "cell_type": "code",
   "execution_count": 23,
   "metadata": {},
   "outputs": [
    {
     "data": {
      "text/plain": [
       "0        even death artist even death artist pariss old...\n",
       "1        reopens travellers reopens travellers gondolas...\n",
       "2        alamy photoalamy photorestoration works ongoin...\n",
       "3        consumer prices consumer prices mays annual gr...\n",
       "4        btc oil btc oil oil delivered kilometerlong bt...\n",
       "                               ...                        \n",
       "40121                                   dha photodha photo\n",
       "40122    burak yılmaz scored six goals champions league...\n",
       "40123                           reuters photoreuters photo\n",
       "40124    residents gather site truck bomb attack crowde...\n",
       "40125    handout picture taken july released nigerian a...\n",
       "Name: baslik, Length: 40126, dtype: object"
      ]
     },
     "execution_count": 23,
     "metadata": {},
     "output_type": "execute_result"
    }
   ],
   "source": [
    "df['baslik'] = df.baslik.apply(round2)\n",
    "df.baslik"
   ]
  },
  {
   "cell_type": "code",
   "execution_count": 24,
   "metadata": {},
   "outputs": [
    {
     "data": {
      "text/plain": [
       "photo        33456\n",
       "said         21206\n",
       "turkish      13204\n",
       "afp          10512\n",
       "turkey        9567\n",
       "aa            8783\n",
       "minister      8448\n",
       "president     8320\n",
       "also          8244\n",
       "reuters       8091\n",
       "us            7898\n",
       "ap            6890\n",
       "new           6253\n",
       "people        6236\n",
       "first         5389\n",
       "one           5323\n",
       "percent       5207\n",
       "two           5199\n",
       "dha           4905\n",
       "istanbul      4493\n",
       "dtype: int64"
      ]
     },
     "execution_count": 24,
     "metadata": {},
     "output_type": "execute_result"
    }
   ],
   "source": [
    "freq = pd.Series(' '.join(df['baslik']).split()).value_counts()[:20]\n",
    "freq"
   ]
  },
  {
   "cell_type": "code",
   "execution_count": 25,
   "metadata": {},
   "outputs": [
    {
     "data": {
      "text/html": [
       "<div>\n",
       "<style scoped>\n",
       "    .dataframe tbody tr th:only-of-type {\n",
       "        vertical-align: middle;\n",
       "    }\n",
       "\n",
       "    .dataframe tbody tr th {\n",
       "        vertical-align: top;\n",
       "    }\n",
       "\n",
       "    .dataframe thead th {\n",
       "        text-align: right;\n",
       "    }\n",
       "</style>\n",
       "<table border=\"1\" class=\"dataframe\">\n",
       "  <thead>\n",
       "    <tr style=\"text-align: right;\">\n",
       "      <th></th>\n",
       "      <th>baslik</th>\n",
       "      <th>word_count</th>\n",
       "    </tr>\n",
       "  </thead>\n",
       "  <tbody>\n",
       "    <tr>\n",
       "      <th>0</th>\n",
       "      <td>even death artist even death artist pariss old...</td>\n",
       "      <td>146</td>\n",
       "    </tr>\n",
       "    <tr>\n",
       "      <th>1</th>\n",
       "      <td>reopens travellers reopens travellers gondolas...</td>\n",
       "      <td>277</td>\n",
       "    </tr>\n",
       "    <tr>\n",
       "      <th>2</th>\n",
       "      <td>alamy photoalamy photorestoration works ongoin...</td>\n",
       "      <td>236</td>\n",
       "    </tr>\n",
       "    <tr>\n",
       "      <th>3</th>\n",
       "      <td>consumer prices consumer prices mays annual gr...</td>\n",
       "      <td>55</td>\n",
       "    </tr>\n",
       "    <tr>\n",
       "      <th>4</th>\n",
       "      <td>btc oil btc oil oil delivered kilometerlong bt...</td>\n",
       "      <td>81</td>\n",
       "    </tr>\n",
       "  </tbody>\n",
       "</table>\n",
       "</div>"
      ],
      "text/plain": [
       "                                              baslik  word_count\n",
       "0  even death artist even death artist pariss old...         146\n",
       "1  reopens travellers reopens travellers gondolas...         277\n",
       "2  alamy photoalamy photorestoration works ongoin...         236\n",
       "3  consumer prices consumer prices mays annual gr...          55\n",
       "4  btc oil btc oil oil delivered kilometerlong bt...          81"
      ]
     },
     "execution_count": 25,
     "metadata": {},
     "output_type": "execute_result"
    }
   ],
   "source": [
    "df['word_count'] = df['baslik'].apply(lambda x: len(str(x).split(\" \")))\n",
    "df[['baslik','word_count']].head()"
   ]
  },
  {
   "cell_type": "code",
   "execution_count": 26,
   "metadata": {},
   "outputs": [
    {
     "data": {
      "text/html": [
       "<div>\n",
       "<style scoped>\n",
       "    .dataframe tbody tr th:only-of-type {\n",
       "        vertical-align: middle;\n",
       "    }\n",
       "\n",
       "    .dataframe tbody tr th {\n",
       "        vertical-align: top;\n",
       "    }\n",
       "\n",
       "    .dataframe thead th {\n",
       "        text-align: right;\n",
       "    }\n",
       "</style>\n",
       "<table border=\"1\" class=\"dataframe\">\n",
       "  <thead>\n",
       "    <tr style=\"text-align: right;\">\n",
       "      <th></th>\n",
       "      <th>null</th>\n",
       "      <th>percent</th>\n",
       "    </tr>\n",
       "  </thead>\n",
       "  <tbody>\n",
       "    <tr>\n",
       "      <th>kategori</th>\n",
       "      <td>0</td>\n",
       "      <td>0.0</td>\n",
       "    </tr>\n",
       "    <tr>\n",
       "      <th>temiz_haber</th>\n",
       "      <td>0</td>\n",
       "      <td>0.0</td>\n",
       "    </tr>\n",
       "    <tr>\n",
       "      <th>stopwords</th>\n",
       "      <td>0</td>\n",
       "      <td>0.0</td>\n",
       "    </tr>\n",
       "    <tr>\n",
       "      <th>punctuation</th>\n",
       "      <td>0</td>\n",
       "      <td>0.0</td>\n",
       "    </tr>\n",
       "    <tr>\n",
       "      <th>hastags</th>\n",
       "      <td>0</td>\n",
       "      <td>0.0</td>\n",
       "    </tr>\n",
       "    <tr>\n",
       "      <th>numerics</th>\n",
       "      <td>0</td>\n",
       "      <td>0.0</td>\n",
       "    </tr>\n",
       "    <tr>\n",
       "      <th>upper</th>\n",
       "      <td>0</td>\n",
       "      <td>0.0</td>\n",
       "    </tr>\n",
       "    <tr>\n",
       "      <th>baslik</th>\n",
       "      <td>0</td>\n",
       "      <td>0.0</td>\n",
       "    </tr>\n",
       "    <tr>\n",
       "      <th>word_count</th>\n",
       "      <td>0</td>\n",
       "      <td>0.0</td>\n",
       "    </tr>\n",
       "  </tbody>\n",
       "</table>\n",
       "</div>"
      ],
      "text/plain": [
       "             null  percent\n",
       "kategori        0      0.0\n",
       "temiz_haber     0      0.0\n",
       "stopwords       0      0.0\n",
       "punctuation     0      0.0\n",
       "hastags         0      0.0\n",
       "numerics        0      0.0\n",
       "upper           0      0.0\n",
       "baslik          0      0.0\n",
       "word_count      0      0.0"
      ]
     },
     "execution_count": 26,
     "metadata": {},
     "output_type": "execute_result"
    }
   ],
   "source": [
    "null_values=df.isna().sum()\n",
    "null_values=pd.DataFrame(null_values,columns=['null'])\n",
    "sum_tot=len(df)\n",
    "null_values['percent']=null_values['null']/sum_tot*100\n",
    "round(null_values,3).sort_values('percent',ascending=False)"
   ]
  },
  {
   "cell_type": "code",
   "execution_count": 27,
   "metadata": {},
   "outputs": [
    {
     "data": {
      "text/html": [
       "<div>\n",
       "<style scoped>\n",
       "    .dataframe tbody tr th:only-of-type {\n",
       "        vertical-align: middle;\n",
       "    }\n",
       "\n",
       "    .dataframe tbody tr th {\n",
       "        vertical-align: top;\n",
       "    }\n",
       "\n",
       "    .dataframe thead th {\n",
       "        text-align: right;\n",
       "    }\n",
       "</style>\n",
       "<table border=\"1\" class=\"dataframe\">\n",
       "  <thead>\n",
       "    <tr style=\"text-align: right;\">\n",
       "      <th></th>\n",
       "      <th>baslik</th>\n",
       "      <th>char_count</th>\n",
       "    </tr>\n",
       "  </thead>\n",
       "  <tbody>\n",
       "    <tr>\n",
       "      <th>0</th>\n",
       "      <td>even death artist even death artist pariss old...</td>\n",
       "      <td>1065</td>\n",
       "    </tr>\n",
       "    <tr>\n",
       "      <th>1</th>\n",
       "      <td>reopens travellers reopens travellers gondolas...</td>\n",
       "      <td>2059</td>\n",
       "    </tr>\n",
       "    <tr>\n",
       "      <th>2</th>\n",
       "      <td>alamy photoalamy photorestoration works ongoin...</td>\n",
       "      <td>1834</td>\n",
       "    </tr>\n",
       "    <tr>\n",
       "      <th>3</th>\n",
       "      <td>consumer prices consumer prices mays annual gr...</td>\n",
       "      <td>427</td>\n",
       "    </tr>\n",
       "    <tr>\n",
       "      <th>4</th>\n",
       "      <td>btc oil btc oil oil delivered kilometerlong bt...</td>\n",
       "      <td>578</td>\n",
       "    </tr>\n",
       "  </tbody>\n",
       "</table>\n",
       "</div>"
      ],
      "text/plain": [
       "                                              baslik  char_count\n",
       "0  even death artist even death artist pariss old...        1065\n",
       "1  reopens travellers reopens travellers gondolas...        2059\n",
       "2  alamy photoalamy photorestoration works ongoin...        1834\n",
       "3  consumer prices consumer prices mays annual gr...         427\n",
       "4  btc oil btc oil oil delivered kilometerlong bt...         578"
      ]
     },
     "execution_count": 27,
     "metadata": {},
     "output_type": "execute_result"
    }
   ],
   "source": [
    "df['char_count'] = df['baslik'].str.len() ## this also includes spaces\n",
    "df[['baslik','char_count']].head()"
   ]
  },
  {
   "cell_type": "code",
   "execution_count": 28,
   "metadata": {},
   "outputs": [],
   "source": [
    "def avg_word(sentence):\n",
    "  words = sentence.split()\n",
    "  return (sum(len(word) for word in words)/(len(words)+0.000001))"
   ]
  },
  {
   "cell_type": "code",
   "execution_count": 29,
   "metadata": {},
   "outputs": [
    {
     "data": {
      "text/html": [
       "<div>\n",
       "<style scoped>\n",
       "    .dataframe tbody tr th:only-of-type {\n",
       "        vertical-align: middle;\n",
       "    }\n",
       "\n",
       "    .dataframe tbody tr th {\n",
       "        vertical-align: top;\n",
       "    }\n",
       "\n",
       "    .dataframe thead th {\n",
       "        text-align: right;\n",
       "    }\n",
       "</style>\n",
       "<table border=\"1\" class=\"dataframe\">\n",
       "  <thead>\n",
       "    <tr style=\"text-align: right;\">\n",
       "      <th></th>\n",
       "      <th>baslik</th>\n",
       "      <th>avg_word</th>\n",
       "    </tr>\n",
       "  </thead>\n",
       "  <tbody>\n",
       "    <tr>\n",
       "      <th>0</th>\n",
       "      <td>even death artist even death artist pariss old...</td>\n",
       "      <td>6.3</td>\n",
       "    </tr>\n",
       "    <tr>\n",
       "      <th>1</th>\n",
       "      <td>reopens travellers reopens travellers gondolas...</td>\n",
       "      <td>6.4</td>\n",
       "    </tr>\n",
       "    <tr>\n",
       "      <th>2</th>\n",
       "      <td>alamy photoalamy photorestoration works ongoin...</td>\n",
       "      <td>6.8</td>\n",
       "    </tr>\n",
       "    <tr>\n",
       "      <th>3</th>\n",
       "      <td>consumer prices consumer prices mays annual gr...</td>\n",
       "      <td>6.8</td>\n",
       "    </tr>\n",
       "    <tr>\n",
       "      <th>4</th>\n",
       "      <td>btc oil btc oil oil delivered kilometerlong bt...</td>\n",
       "      <td>6.1</td>\n",
       "    </tr>\n",
       "  </tbody>\n",
       "</table>\n",
       "</div>"
      ],
      "text/plain": [
       "                                              baslik  avg_word\n",
       "0  even death artist even death artist pariss old...       6.3\n",
       "1  reopens travellers reopens travellers gondolas...       6.4\n",
       "2  alamy photoalamy photorestoration works ongoin...       6.8\n",
       "3  consumer prices consumer prices mays annual gr...       6.8\n",
       "4  btc oil btc oil oil delivered kilometerlong bt...       6.1"
      ]
     },
     "execution_count": 29,
     "metadata": {},
     "output_type": "execute_result"
    }
   ],
   "source": [
    "df['avg_word'] = df['baslik'].apply(lambda x: avg_word(x)).round(1)\n",
    "df[['baslik','avg_word']].head()"
   ]
  },
  {
   "cell_type": "code",
   "execution_count": 30,
   "metadata": {},
   "outputs": [
    {
     "data": {
      "text/html": [
       "<div>\n",
       "<style scoped>\n",
       "    .dataframe tbody tr th:only-of-type {\n",
       "        vertical-align: middle;\n",
       "    }\n",
       "\n",
       "    .dataframe tbody tr th {\n",
       "        vertical-align: top;\n",
       "    }\n",
       "\n",
       "    .dataframe thead th {\n",
       "        text-align: right;\n",
       "    }\n",
       "</style>\n",
       "<table border=\"1\" class=\"dataframe\">\n",
       "  <thead>\n",
       "    <tr style=\"text-align: right;\">\n",
       "      <th></th>\n",
       "      <th>kategori</th>\n",
       "      <th>temiz_haber</th>\n",
       "      <th>stopwords</th>\n",
       "      <th>punctuation</th>\n",
       "      <th>hastags</th>\n",
       "      <th>numerics</th>\n",
       "      <th>upper</th>\n",
       "      <th>baslik</th>\n",
       "      <th>word_count</th>\n",
       "      <th>char_count</th>\n",
       "      <th>avg_word</th>\n",
       "    </tr>\n",
       "  </thead>\n",
       "  <tbody>\n",
       "    <tr>\n",
       "      <th>27141</th>\n",
       "      <td>turkey</td>\n",
       "      <td>aa photoaa photo</td>\n",
       "      <td>0</td>\n",
       "      <td>0</td>\n",
       "      <td>0</td>\n",
       "      <td>0</td>\n",
       "      <td>0</td>\n",
       "      <td>aa photoaa photo</td>\n",
       "      <td>3</td>\n",
       "      <td>16</td>\n",
       "      <td>4.7</td>\n",
       "    </tr>\n",
       "    <tr>\n",
       "      <th>16684</th>\n",
       "      <td>world</td>\n",
       "      <td>pope benedict xvi backc speaks bishop holds ta...</td>\n",
       "      <td>2</td>\n",
       "      <td>0</td>\n",
       "      <td>0</td>\n",
       "      <td>0</td>\n",
       "      <td>0</td>\n",
       "      <td>pope benedict xvi backc speaks bishop holds ta...</td>\n",
       "      <td>41</td>\n",
       "      <td>290</td>\n",
       "      <td>6.1</td>\n",
       "    </tr>\n",
       "  </tbody>\n",
       "</table>\n",
       "</div>"
      ],
      "text/plain": [
       "      kategori                                        temiz_haber  stopwords  \\\n",
       "27141   turkey                                   aa photoaa photo          0   \n",
       "16684    world  pope benedict xvi backc speaks bishop holds ta...          2   \n",
       "\n",
       "       punctuation  hastags  numerics  upper  \\\n",
       "27141            0        0         0      0   \n",
       "16684            0        0         0      0   \n",
       "\n",
       "                                                  baslik  word_count  \\\n",
       "27141                                   aa photoaa photo           3   \n",
       "16684  pope benedict xvi backc speaks bishop holds ta...          41   \n",
       "\n",
       "       char_count  avg_word  \n",
       "27141          16       4.7  \n",
       "16684         290       6.1  "
      ]
     },
     "execution_count": 30,
     "metadata": {},
     "output_type": "execute_result"
    }
   ],
   "source": [
    "df.sample(2)"
   ]
  },
  {
   "cell_type": "code",
   "execution_count": 31,
   "metadata": {},
   "outputs": [
    {
     "data": {
      "text/plain": [
       "0        even death artist even death artist pariss old...\n",
       "1        reopens travellers reopens travellers gondolas...\n",
       "2        alamy photoalamy photorestoration works ongoin...\n",
       "3        consumer prices consumer prices mays annual gr...\n",
       "4        btc oil btc oil oil delivered kilometerlong bt...\n",
       "                               ...                        \n",
       "40121                                   dha photodha photo\n",
       "40122    burak yılmaz scored six goals champions league...\n",
       "40123                           reuters photoreuters photo\n",
       "40124    residents gather site truck bomb attack crowde...\n",
       "40125    handout picture taken july released nigerian a...\n",
       "Name: baslik, Length: 40126, dtype: object"
      ]
     },
     "execution_count": 31,
     "metadata": {},
     "output_type": "execute_result"
    }
   ],
   "source": [
    "df['baslik'] = df.baslik.apply(round1)\n",
    "df.baslik"
   ]
  },
  {
   "cell_type": "code",
   "execution_count": 33,
   "metadata": {},
   "outputs": [
    {
     "data": {
      "text/plain": [
       "0        even death artist even death artist from paris...\n",
       "1        reopens travellers reopens travellers gondolas...\n",
       "2        alamy photoalamy photorestoration works ongoin...\n",
       "3        consumer prices consumer prices mays annual a ...\n",
       "4        btc oil btc oil the oil delivered  kilometerlo...\n",
       "                               ...                        \n",
       "40121                                   dha photodha photo\n",
       "40122    burak yılmaz scored six goals champions league...\n",
       "40123                           reuters photoreuters photo\n",
       "40124    residents gather site truck bomb attack crowde...\n",
       "40125    an handout picture taken july   released niger...\n",
       "Name: temiz_haber, Length: 40126, dtype: object"
      ]
     },
     "execution_count": 33,
     "metadata": {},
     "output_type": "execute_result"
    }
   ],
   "source": [
    "df['baslik'] = df.temiz_haber.apply(round2)\n",
    "df.temiz_haber"
   ]
  },
  {
   "cell_type": "code",
   "execution_count": 32,
   "metadata": {},
   "outputs": [],
   "source": [
    "df.to_csv('tertemiz.csv', index=False)"
   ]
  },
  {
   "cell_type": "code",
   "execution_count": 16,
   "metadata": {},
   "outputs": [
    {
     "data": {
      "text/html": [
       "<div>\n",
       "<style scoped>\n",
       "    .dataframe tbody tr th:only-of-type {\n",
       "        vertical-align: middle;\n",
       "    }\n",
       "\n",
       "    .dataframe tbody tr th {\n",
       "        vertical-align: top;\n",
       "    }\n",
       "\n",
       "    .dataframe thead th {\n",
       "        text-align: right;\n",
       "    }\n",
       "</style>\n",
       "<table border=\"1\" class=\"dataframe\">\n",
       "  <thead>\n",
       "    <tr style=\"text-align: right;\">\n",
       "      <th></th>\n",
       "      <th>kategori</th>\n",
       "      <th>temiz_haber</th>\n",
       "    </tr>\n",
       "  </thead>\n",
       "  <tbody>\n",
       "    <tr>\n",
       "      <th>0</th>\n",
       "      <td>arts  life</td>\n",
       "      <td>even death artist even death artist from paris...</td>\n",
       "    </tr>\n",
       "    <tr>\n",
       "      <th>1</th>\n",
       "      <td>world</td>\n",
       "      <td>reopens travellers reopens travellers gondolas...</td>\n",
       "    </tr>\n",
       "    <tr>\n",
       "      <th>2</th>\n",
       "      <td>arts  life</td>\n",
       "      <td>alamy photoalamy photorestoration works ongoin...</td>\n",
       "    </tr>\n",
       "    <tr>\n",
       "      <th>3</th>\n",
       "      <td>economy</td>\n",
       "      <td>consumer prices consumer prices mays annual a ...</td>\n",
       "    </tr>\n",
       "    <tr>\n",
       "      <th>4</th>\n",
       "      <td>economy</td>\n",
       "      <td>btc oil btc oil the oil delivered  kilometerlo...</td>\n",
       "    </tr>\n",
       "  </tbody>\n",
       "</table>\n",
       "</div>"
      ],
      "text/plain": [
       "     kategori                                        temiz_haber\n",
       "0  arts  life  even death artist even death artist from paris...\n",
       "1       world  reopens travellers reopens travellers gondolas...\n",
       "2  arts  life  alamy photoalamy photorestoration works ongoin...\n",
       "3     economy  consumer prices consumer prices mays annual a ...\n",
       "4     economy  btc oil btc oil the oil delivered  kilometerlo..."
      ]
     },
     "execution_count": 16,
     "metadata": {},
     "output_type": "execute_result"
    }
   ],
   "source": [
    "import pandas as pd\n",
    "import numpy as np\n",
    "df = pd.read_csv('simdi.csv')\n",
    "df.head(5)\n"
   ]
  },
  {
   "cell_type": "code",
   "execution_count": 18,
   "metadata": {},
   "outputs": [],
   "source": [
    "from textblob import TextBlob\n",
    "df['polarity'] = df[['temiz_haber']].sample(12205)\n",
    "\n",
    "def detect_subjectivity(temiz_haber):\n",
    "    return TextBlob(temiz_haber).sentiment.subjectivity\n",
    "df['subjectivity'] = df.temiz_haber.apply(detect_subjectivity)\n",
    "\n",
    "def detect_polarity(temiz_haber):\n",
    "    return TextBlob(temiz_haber).sentiment.polarity\n",
    "df['polarity'] = df.temiz_haber.apply(detect_polarity)     \n",
    "\n",
    "\n",
    "def f(df):\n",
    "    if df['polarity'] > 0:\n",
    "        val = 1\n",
    "    elif df['polarity'] == 0:\n",
    "        val = 0\n",
    "    else:\n",
    "        val = -1\n",
    "    return val\n",
    "df['sentiment'] = df.apply(f, axis=1)\n"
   ]
  },
  {
   "cell_type": "code",
   "execution_count": 19,
   "metadata": {},
   "outputs": [
    {
     "data": {
      "text/plain": [
       "0       -0.011626\n",
       "1       -0.034202\n",
       "2        0.076139\n",
       "3        0.107273\n",
       "4       -0.033333\n",
       "           ...   \n",
       "40121    0.000000\n",
       "40122    0.500000\n",
       "40123    0.000000\n",
       "40124    0.000000\n",
       "40125   -0.100000\n",
       "Name: polarity, Length: 40126, dtype: float64"
      ]
     },
     "execution_count": 19,
     "metadata": {},
     "output_type": "execute_result"
    }
   ],
   "source": [
    "df.polarity"
   ]
  },
  {
   "cell_type": "code",
   "execution_count": 20,
   "metadata": {},
   "outputs": [
    {
     "data": {
      "text/html": [
       "<div>\n",
       "<style scoped>\n",
       "    .dataframe tbody tr th:only-of-type {\n",
       "        vertical-align: middle;\n",
       "    }\n",
       "\n",
       "    .dataframe tbody tr th {\n",
       "        vertical-align: top;\n",
       "    }\n",
       "\n",
       "    .dataframe thead th {\n",
       "        text-align: right;\n",
       "    }\n",
       "</style>\n",
       "<table border=\"1\" class=\"dataframe\">\n",
       "  <thead>\n",
       "    <tr style=\"text-align: right;\">\n",
       "      <th></th>\n",
       "      <th>kategori</th>\n",
       "      <th>temiz_haber</th>\n",
       "      <th>polarity</th>\n",
       "      <th>subjectivity</th>\n",
       "      <th>sentiment</th>\n",
       "    </tr>\n",
       "  </thead>\n",
       "  <tbody>\n",
       "    <tr>\n",
       "      <th>0</th>\n",
       "      <td>arts  life</td>\n",
       "      <td>even death artist even death artist from paris...</td>\n",
       "      <td>-0.011626</td>\n",
       "      <td>0.229196</td>\n",
       "      <td>-1</td>\n",
       "    </tr>\n",
       "    <tr>\n",
       "      <th>1</th>\n",
       "      <td>world</td>\n",
       "      <td>reopens travellers reopens travellers gondolas...</td>\n",
       "      <td>-0.034202</td>\n",
       "      <td>0.351643</td>\n",
       "      <td>-1</td>\n",
       "    </tr>\n",
       "    <tr>\n",
       "      <th>2</th>\n",
       "      <td>arts  life</td>\n",
       "      <td>alamy photoalamy photorestoration works ongoin...</td>\n",
       "      <td>0.076139</td>\n",
       "      <td>0.390114</td>\n",
       "      <td>1</td>\n",
       "    </tr>\n",
       "    <tr>\n",
       "      <th>3</th>\n",
       "      <td>economy</td>\n",
       "      <td>consumer prices consumer prices mays annual a ...</td>\n",
       "      <td>0.107273</td>\n",
       "      <td>0.234242</td>\n",
       "      <td>1</td>\n",
       "    </tr>\n",
       "    <tr>\n",
       "      <th>4</th>\n",
       "      <td>economy</td>\n",
       "      <td>btc oil btc oil the oil delivered  kilometerlo...</td>\n",
       "      <td>-0.033333</td>\n",
       "      <td>0.365385</td>\n",
       "      <td>-1</td>\n",
       "    </tr>\n",
       "  </tbody>\n",
       "</table>\n",
       "</div>"
      ],
      "text/plain": [
       "     kategori                                        temiz_haber  polarity  \\\n",
       "0  arts  life  even death artist even death artist from paris... -0.011626   \n",
       "1       world  reopens travellers reopens travellers gondolas... -0.034202   \n",
       "2  arts  life  alamy photoalamy photorestoration works ongoin...  0.076139   \n",
       "3     economy  consumer prices consumer prices mays annual a ...  0.107273   \n",
       "4     economy  btc oil btc oil the oil delivered  kilometerlo... -0.033333   \n",
       "\n",
       "   subjectivity  sentiment  \n",
       "0      0.229196         -1  \n",
       "1      0.351643         -1  \n",
       "2      0.390114          1  \n",
       "3      0.234242          1  \n",
       "4      0.365385         -1  "
      ]
     },
     "execution_count": 20,
     "metadata": {},
     "output_type": "execute_result"
    }
   ],
   "source": [
    "df.head(5)\n",
    "\n"
   ]
  },
  {
   "cell_type": "code",
   "execution_count": 21,
   "metadata": {},
   "outputs": [],
   "source": [
    "df.to_csv('ensonhali.csv', index=False)"
   ]
  },
  {
   "cell_type": "code",
   "execution_count": null,
   "metadata": {},
   "outputs": [],
   "source": []
  }
 ],
 "metadata": {
  "kernelspec": {
   "display_name": "Python 3",
   "language": "python",
   "name": "python3"
  },
  "language_info": {
   "codemirror_mode": {
    "name": "ipython",
    "version": 3
   },
   "file_extension": ".py",
   "mimetype": "text/x-python",
   "name": "python",
   "nbconvert_exporter": "python",
   "pygments_lexer": "ipython3",
   "version": "3.7.6"
  }
 },
 "nbformat": 4,
 "nbformat_minor": 4
}
